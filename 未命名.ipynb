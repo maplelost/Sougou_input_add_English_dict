{
 "cells": [
  {
   "cell_type": "code",
   "execution_count": 180,
   "id": "da97229d-f579-40cd-932a-b45cf38d7dae",
   "metadata": {
    "execution": {
     "iopub.execute_input": "2021-11-26T16:24:44.655418Z",
     "iopub.status.busy": "2021-11-26T16:24:44.655203Z",
     "iopub.status.idle": "2021-11-26T16:24:44.658252Z",
     "shell.execute_reply": "2021-11-26T16:24:44.657732Z",
     "shell.execute_reply.started": "2021-11-26T16:24:44.655396Z"
    },
    "tags": []
   },
   "outputs": [],
   "source": [
    "import re\n",
    "from collections import defaultdict\n",
    "import json\n",
    "from pypinyin import lazy_pinyin\n",
    "import pandas as pd"
   ]
  },
  {
   "cell_type": "code",
   "execution_count": 181,
   "id": "78efc3ed-1351-4409-9bd8-3724b0d3d6f2",
   "metadata": {
    "execution": {
     "iopub.execute_input": "2021-11-26T16:24:45.068199Z",
     "iopub.status.busy": "2021-11-26T16:24:45.067949Z",
     "iopub.status.idle": "2021-11-26T16:24:45.094526Z",
     "shell.execute_reply": "2021-11-26T16:24:45.093949Z",
     "shell.execute_reply.started": "2021-11-26T16:24:45.068173Z"
    },
    "tags": []
   },
   "outputs": [],
   "source": [
    "words_list = []\n",
    "with open('./document.txt') as f:\n",
    "    for line in f.readlines():\n",
    "        line = line.replace('*','').replace(' ','').split('/')[::2]\n",
    "        words_list.append(line)"
   ]
  },
  {
   "cell_type": "code",
   "execution_count": 182,
   "id": "0ba43293-9d5b-4af8-9b79-e6733fd883ca",
   "metadata": {
    "execution": {
     "iopub.execute_input": "2021-11-26T16:24:45.498822Z",
     "iopub.status.busy": "2021-11-26T16:24:45.498575Z",
     "iopub.status.idle": "2021-11-26T16:24:45.561158Z",
     "shell.execute_reply": "2021-11-26T16:24:45.560538Z",
     "shell.execute_reply.started": "2021-11-26T16:24:45.498795Z"
    },
    "tags": []
   },
   "outputs": [],
   "source": [
    "english_chinese = defaultdict(list)\n",
    "for word_item in words_list:\n",
    "    try:\n",
    "        word , chinese = word_item[0], word_item[1]\n",
    "        chinese = re.findall(pre,chinese)\n",
    "        t = []\n",
    "        for x in chinese:\n",
    "            if '[' in x or ']'in x or '(' in x or ')' in x or '人名' in x or '的第三人称' in x:\n",
    "                continue\n",
    "            t.append(x)\n",
    "        if t :\n",
    "            english_chinese[word] = t\n",
    "    except :\n",
    "        # 舍弃掉不规范的词语\n",
    "        continue"
   ]
  },
  {
   "cell_type": "code",
   "execution_count": 183,
   "id": "c0932d07-faa8-4cf5-acf7-f77c135a36d5",
   "metadata": {
    "execution": {
     "iopub.execute_input": "2021-11-26T16:24:45.931557Z",
     "iopub.status.busy": "2021-11-26T16:24:45.931105Z",
     "iopub.status.idle": "2021-11-26T16:24:45.938302Z",
     "shell.execute_reply": "2021-11-26T16:24:45.937691Z",
     "shell.execute_reply.started": "2021-11-26T16:24:45.931530Z"
    },
    "tags": []
   },
   "outputs": [
    {
     "data": {
      "text/plain": [
       "['一些', '若干', '某一个', '有一个', '相当的', '一些', '若干', '有些', '某些', '大约', '几分', '稍微']"
      ]
     },
     "execution_count": 183,
     "metadata": {},
     "output_type": "execute_result"
    }
   ],
   "source": [
    "list(english_chinese.items())[:10]\n",
    "english_chinese['some']\n",
    "# ''.join(lazy_pinyin(english_chinese['some']))"
   ]
  },
  {
   "cell_type": "code",
   "execution_count": 184,
   "id": "ea72a51f-4558-4f45-886c-53334be15a82",
   "metadata": {
    "execution": {
     "iopub.execute_input": "2021-11-26T16:24:46.487431Z",
     "iopub.status.busy": "2021-11-26T16:24:46.487185Z",
     "iopub.status.idle": "2021-11-26T16:24:46.530230Z",
     "shell.execute_reply": "2021-11-26T16:24:46.529764Z",
     "shell.execute_reply.started": "2021-11-26T16:24:46.487404Z"
    },
    "tags": []
   },
   "outputs": [],
   "source": [
    "with open('englist_chinese.json','wt')  as f:\n",
    "    json.dump(english_chinese,f)"
   ]
  },
  {
   "cell_type": "markdown",
   "id": "057613b5-05db-480b-bf96-4619f79a891b",
   "metadata": {},
   "source": [
    "# 开始制作搜狗配置"
   ]
  },
  {
   "cell_type": "code",
   "execution_count": 185,
   "id": "d3cbfb5d-9063-46ea-9665-c518b2f93cd0",
   "metadata": {
    "execution": {
     "iopub.execute_input": "2021-11-26T16:24:48.599062Z",
     "iopub.status.busy": "2021-11-26T16:24:48.598818Z",
     "iopub.status.idle": "2021-11-26T16:24:48.625040Z",
     "shell.execute_reply": "2021-11-26T16:24:48.624473Z",
     "shell.execute_reply.started": "2021-11-26T16:24:48.599036Z"
    },
    "tags": []
   },
   "outputs": [],
   "source": [
    "with open('./englist_chinese.json') as f:\n",
    "    data = json.load(f)"
   ]
  },
  {
   "cell_type": "code",
   "execution_count": 186,
   "id": "16b1dd87-e34f-4f88-8e3d-6920e7fe5d67",
   "metadata": {
    "execution": {
     "iopub.execute_input": "2021-11-26T16:24:49.015690Z",
     "iopub.status.busy": "2021-11-26T16:24:49.015435Z",
     "iopub.status.idle": "2021-11-26T16:24:53.032019Z",
     "shell.execute_reply": "2021-11-26T16:24:53.031462Z",
     "shell.execute_reply.started": "2021-11-26T16:24:49.015662Z"
    },
    "tags": []
   },
   "outputs": [],
   "source": [
    "chinese_english = defaultdict(list)\n",
    "for key, values in data.items():\n",
    "    for word in values:\n",
    "        chinese_english[''.join(lazy_pinyin(word))].append(key)\n",
    "        chinese_english[''.join(lazy_pinyin(word))] = list(set(chinese_english[''.join(lazy_pinyin(word))]))# 去重"
   ]
  },
  {
   "cell_type": "code",
   "execution_count": 187,
   "id": "13fff8b2-09f1-4313-a562-bd45c267e34b",
   "metadata": {
    "execution": {
     "iopub.execute_input": "2021-11-26T16:24:53.033333Z",
     "iopub.status.busy": "2021-11-26T16:24:53.033127Z",
     "iopub.status.idle": "2021-11-26T16:24:53.038576Z",
     "shell.execute_reply": "2021-11-26T16:24:53.037969Z",
     "shell.execute_reply.started": "2021-11-26T16:24:53.033317Z"
    },
    "tags": []
   },
   "outputs": [
    {
     "data": {
      "text/plain": [
       "['any', 'some']"
      ]
     },
     "execution_count": 187,
     "metadata": {},
     "output_type": "execute_result"
    }
   ],
   "source": [
    "chinese_english['yixie']"
   ]
  },
  {
   "cell_type": "code",
   "execution_count": 188,
   "id": "079fd180-568b-4a41-979f-49636e706797",
   "metadata": {
    "execution": {
     "iopub.execute_input": "2021-11-26T16:24:53.133888Z",
     "iopub.status.busy": "2021-11-26T16:24:53.133667Z",
     "iopub.status.idle": "2021-11-26T16:24:53.197269Z",
     "shell.execute_reply": "2021-11-26T16:24:53.196594Z",
     "shell.execute_reply.started": "2021-11-26T16:24:53.133865Z"
    },
    "tags": []
   },
   "outputs": [],
   "source": [
    "with open('./chinese_english.json','wt') as f:\n",
    "    json.dump(chinese_english,f)"
   ]
  },
  {
   "cell_type": "markdown",
   "id": "9545b81d-aed0-4689-9428-53aaeecea3a1",
   "metadata": {},
   "source": [
    "## 保存文件完成,设置成搜狗模式"
   ]
  },
  {
   "cell_type": "code",
   "execution_count": 196,
   "id": "4d188823-c320-49cd-849a-525f9246c0ec",
   "metadata": {
    "execution": {
     "iopub.execute_input": "2021-11-26T16:31:09.444019Z",
     "iopub.status.busy": "2021-11-26T16:31:09.443774Z",
     "iopub.status.idle": "2021-11-26T16:31:09.465625Z",
     "shell.execute_reply": "2021-11-26T16:31:09.465030Z",
     "shell.execute_reply.started": "2021-11-26T16:31:09.443992Z"
    },
    "tags": []
   },
   "outputs": [],
   "source": [
    "with open('./chinese_english.json') as f:\n",
    "    data = json.load(f)"
   ]
  },
  {
   "cell_type": "code",
   "execution_count": 197,
   "id": "6c7e3d54-238b-45ab-8d37-152d339822a9",
   "metadata": {
    "execution": {
     "iopub.execute_input": "2021-11-26T16:31:09.989648Z",
     "iopub.status.busy": "2021-11-26T16:31:09.989404Z",
     "iopub.status.idle": "2021-11-26T16:31:10.024733Z",
     "shell.execute_reply": "2021-11-26T16:31:10.024172Z",
     "shell.execute_reply.started": "2021-11-26T16:31:09.989622Z"
    },
    "tags": []
   },
   "outputs": [],
   "source": [
    "sougou_text = ''''''\n",
    "for chinese, englist_list in data.items():\n",
    "    for i,word in enumerate(englist_list):\n",
    "        sougou_text += f'e{chinese},{i+1}={word}\\n'"
   ]
  },
  {
   "cell_type": "code",
   "execution_count": 198,
   "id": "a8bae786-da8a-49cf-b7a8-5fc51b49f98b",
   "metadata": {
    "execution": {
     "iopub.execute_input": "2021-11-26T16:31:11.604056Z",
     "iopub.status.busy": "2021-11-26T16:31:11.603803Z",
     "iopub.status.idle": "2021-11-26T16:31:11.608810Z",
     "shell.execute_reply": "2021-11-26T16:31:11.608135Z",
     "shell.execute_reply.started": "2021-11-26T16:31:11.604030Z"
    },
    "tags": []
   },
   "outputs": [],
   "source": [
    "with open('./so_gou_config.txt','wt') as f:\n",
    "    f.write(sougou_text)"
   ]
  },
  {
   "cell_type": "code",
   "execution_count": 191,
   "id": "e485f06c-7d4e-435d-b1e7-cca49492a1fe",
   "metadata": {
    "execution": {
     "iopub.execute_input": "2021-11-26T16:25:04.453481Z",
     "iopub.status.busy": "2021-11-26T16:25:04.453253Z",
     "iopub.status.idle": "2021-11-26T16:25:04.474126Z",
     "shell.execute_reply": "2021-11-26T16:25:04.473634Z",
     "shell.execute_reply.started": "2021-11-26T16:25:04.453457Z"
    },
    "tags": []
   },
   "outputs": [],
   "source": [
    "# 自定义选取长度小于5的字词映射\n",
    "dict_count = {}\n",
    "for key,values in data.items():\n",
    "    if len(values) < 5:\n",
    "        dict_count[key] = values\n",
    "t = sorted(dict_count,key=lambda x:x,reverse=True)\n",
    "data = dict_count"
   ]
  },
  {
   "cell_type": "code",
   "execution_count": 167,
   "id": "34a32209-12ca-43ed-abd4-6d0a691090f6",
   "metadata": {
    "execution": {
     "iopub.execute_input": "2021-11-26T16:22:19.757716Z",
     "iopub.status.busy": "2021-11-26T16:22:19.757469Z",
     "iopub.status.idle": "2021-11-26T16:22:19.760930Z",
     "shell.execute_reply": "2021-11-26T16:22:19.760166Z",
     "shell.execute_reply.started": "2021-11-26T16:22:19.757689Z"
    },
    "tags": []
   },
   "outputs": [],
   "source": []
  },
  {
   "cell_type": "code",
   "execution_count": 190,
   "id": "2f78ed3d-48ae-45ee-a026-04ae17b11a84",
   "metadata": {
    "execution": {
     "iopub.execute_input": "2021-11-26T16:24:58.189307Z",
     "iopub.status.busy": "2021-11-26T16:24:58.189063Z",
     "iopub.status.idle": "2021-11-26T16:24:58.193621Z",
     "shell.execute_reply": "2021-11-26T16:24:58.193003Z",
     "shell.execute_reply.started": "2021-11-26T16:24:58.189281Z"
    },
    "tags": []
   },
   "outputs": [
    {
     "data": {
      "text/plain": [
       "['note', 'take', 'score']"
      ]
     },
     "execution_count": 190,
     "metadata": {},
     "output_type": "execute_result"
    }
   ],
   "source": [
    "data['jixia']"
   ]
  },
  {
   "cell_type": "code",
   "execution_count": null,
   "id": "bf76c291-aaac-4dc7-9678-27a015107cc0",
   "metadata": {},
   "outputs": [],
   "source": []
  }
 ],
 "metadata": {
  "kernelspec": {
   "display_name": "Python 3 (ipykernel)",
   "language": "python",
   "name": "python3"
  },
  "language_info": {
   "codemirror_mode": {
    "name": "ipython",
    "version": 3
   },
   "file_extension": ".py",
   "mimetype": "text/x-python",
   "name": "python",
   "nbconvert_exporter": "python",
   "pygments_lexer": "ipython3",
   "version": "3.8.5"
  }
 },
 "nbformat": 4,
 "nbformat_minor": 5
}
